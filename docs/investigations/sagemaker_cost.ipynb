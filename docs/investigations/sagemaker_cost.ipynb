{
 "cells": [
  {
   "cell_type": "markdown",
   "metadata": {},
   "source": [
    "# SageMaker training cost\n",
    "\n",
    "In this notebook, we will calculate the cost of training a model in SageMaker.\n",
    "\n",
    "We are considering the historical training jobs that we have done in the past."
   ]
  },
  {
   "cell_type": "code",
   "execution_count": 2,
   "metadata": {},
   "outputs": [],
   "source": [
    "def calculate_sagemaker_cost(\n",
    "    instance_cost: float,\n",
    "    billable_seconds: int,\n",
    "    conversion_rate: float = 5.2\n",
    ") -> float:\n",
    "    \"\"\"\n",
    "    Calculate the cost of a SageMaker job based on the instance cost and the billable seconds.\n",
    "\n",
    "    Args:\n",
    "    - instance_cost: The cost of the instance used in the SageMaker job.\n",
    "    - billable_seconds: The number of billable seconds of the SageMaker job.\n",
    "    - conversion_rate: The conversion rate to be used to convert the cost from USD to BRL.\n",
    "\n",
    "    Returns:\n",
    "    - The cost of the SageMaker job.\n",
    "    \"\"\"\n",
    "    cost = instance_cost * billable_seconds / 3600 * conversion_rate\n",
    "    return round(cost, 2)"
   ]
  },
  {
   "cell_type": "code",
   "execution_count": 3,
   "metadata": {},
   "outputs": [
    {
     "name": "stdout",
     "output_type": "stream",
     "text": [
      "Spot Training Job cost for ml.m5.4xlarge: R$ 3.33\n",
      "Spot Training Job cost for ml.m4.4xlarge: R$ 3.49\n",
      "Spot Training Job cost for ml.p3.2xlarge: R$ 1.33\n",
      "Spot Training Job cost for ml.g4dn.2xlarge: R$ 0.35\n"
     ]
    }
   ],
   "source": [
    "instances = [\n",
    "    {\n",
    "        \"instance_type\": \"ml.m5.4xlarge\",\n",
    "        \"avg_billable_seconds\": 2500,\n",
    "        \"instance_cost\": 0.922\n",
    "    },\n",
    "    {\n",
    "        \"instance_type\": \"ml.m4.4xlarge\",\n",
    "        \"avg_billable_seconds\": 2500,\n",
    "        \"instance_cost\": 0.966\n",
    "    },\n",
    "    {\n",
    "        \"instance_type\": \"ml.p3.2xlarge\",\n",
    "        \"avg_billable_seconds\": 240,\n",
    "        \"instance_cost\": 3.825\n",
    "    },\n",
    "    {\n",
    "        \"instance_type\": \"ml.g4dn.2xlarge\",\n",
    "        \"avg_billable_seconds\": 261,\n",
    "        \"instance_cost\": 0.94\n",
    "    }\n",
    "]\n",
    "\n",
    "for instance in instances:\n",
    "    cost = calculate_sagemaker_cost(\n",
    "        instance[\"instance_cost\"],\n",
    "        instance[\"avg_billable_seconds\"]\n",
    "    )\n",
    "    print(f\"Spot Training Job cost for {instance['instance_type']}: R$ {cost}\")"
   ]
  },
  {
   "cell_type": "markdown",
   "metadata": {},
   "source": [
    "## Conclusion\n",
    "\n",
    "The cost of training a model in GPU instances is significantly lower than in CPU instances, especially in the `ml.g4dn.2xlarge` instance."
   ]
  }
 ],
 "metadata": {
  "kernelspec": {
   "display_name": "Python 3.10.8 64-bit",
   "language": "python",
   "name": "python3"
  },
  "language_info": {
   "codemirror_mode": {
    "name": "ipython",
    "version": 3
   },
   "file_extension": ".py",
   "mimetype": "text/x-python",
   "name": "python",
   "nbconvert_exporter": "python",
   "pygments_lexer": "ipython3",
   "version": "3.10.8"
  },
  "orig_nbformat": 4,
  "vscode": {
   "interpreter": {
    "hash": "369f2c481f4da34e4445cda3fffd2e751bd1c4d706f27375911949ba6bb62e1c"
   }
  }
 },
 "nbformat": 4,
 "nbformat_minor": 2
}
