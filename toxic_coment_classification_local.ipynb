{
  "cells": [
    {
      "cell_type": "code",
      "execution_count": null,
      "metadata": {
        "id": "YlE1kqQ072PX"
      },
      "outputs": [],
      "source": [
        "pip install transformers torch datasets"
      ]
    },
    {
      "cell_type": "code",
      "source": [
        "from google.colab import drive\n",
        "drive.mount('/content/drive')"
      ],
      "metadata": {
        "id": "3UQN4ENFCnZD"
      },
      "execution_count": null,
      "outputs": []
    },
    {
      "cell_type": "code",
      "execution_count": null,
      "metadata": {
        "id": "TbYJuzCT7rwg"
      },
      "outputs": [],
      "source": [
        "import torch\n",
        "from transformers import AutoTokenizer, BertForSequenceClassification\n",
        "from transformers import TrainingArguments, Trainer\n",
        "from datasets import load_dataset\n",
        "\n",
        "device = torch.device(\"cuda\" if torch.cuda.is_available() else \"cpu\")\n",
        "\n",
        "# Defina os hiperparâmetros otimizados\n",
        "learning_rate = 3.255788747459486e-05\n",
        "weight_decay = 0.031031065174245122\n",
        "adam_beta1 = 0.8445637934160373\n",
        "adam_beta2 = 0.8338816842140165\n",
        "adam_epsilon = 2.527092625455385e-08\n",
        "label_smoothing_factor = 0.07158711257743958\n",
        "early_stopping_patience = 2\n",
        "\n",
        "# Defina os hiperparâmetros estáticos\n",
        "model_checkpoint = \"neuralmind/bert-base-portuguese-cased\"\n",
        "output_dir = \"./model\"\n",
        "#batch_size = 1\n",
        "#num_train_epochs = 1\n",
        "\n",
        "batch_size = 8\n",
        "num_train_epochs = 30\n",
        "\n",
        "\n",
        "# Carregue o tokenizador\n",
        "tokenizer = AutoTokenizer.from_pretrained(model_checkpoint)\n",
        "\n",
        "# Carregue o conjunto de dados e divida-o em treinamento e avaliação\n",
        "dataset = load_dataset(\"dougtrajano/olid-br\")\n",
        "train_dataset = dataset[\"train\"]\n",
        "eval_dataset = dataset[\"test\"]\n",
        "\n",
        "# Converta a coluna 'is_offensive' em rótulos numéricos e adicione a coluna 'label'\n",
        "def convert_labels(example):\n",
        "    example['label'] = 1 if example['is_offensive'] else 0\n",
        "    return example\n",
        "\n",
        "train_dataset = train_dataset.map(convert_labels)\n",
        "eval_dataset = eval_dataset.map(convert_labels)\n",
        "\n",
        "# Tokenize os conjuntos de dados\n",
        "train_dataset = train_dataset.map(lambda e: tokenizer(e['text'], truncation=True, padding='max_length'), batched=True)\n",
        "eval_dataset = eval_dataset.map(lambda e: tokenizer(e['text'], truncation=True, padding='max_length'), batched=True)\n",
        "\n",
        "class BertForSequenceClassificationWithWeightedLoss(BertForSequenceClassification):\n",
        "    def __init__(self, config):\n",
        "        super().__init__(config)\n",
        "        class_weights = [1 - (train_dataset[\"label\"].count(0) / len(train_dataset)), 1 - (train_dataset[\"label\"].count(1) / len(train_dataset))]\n",
        "        self.loss_fct = torch.nn.CrossEntropyLoss(weight=torch.Tensor(class_weights).to(device))\n",
        "\n",
        "model = BertForSequenceClassificationWithWeightedLoss.from_pretrained(model_checkpoint, num_labels=2)\n",
        "\n",
        "training_args = TrainingArguments(\n",
        "    output_dir=output_dir,\n",
        "    per_device_train_batch_size=batch_size,\n",
        "    per_device_eval_batch_size=batch_size,\n",
        "    num_train_epochs=num_train_epochs,\n",
        "    evaluation_strategy=\"epoch\",\n",
        "    save_strategy=\"epoch\",\n",
        "    logging_dir=\"./logs\",\n",
        "    logging_steps=10,\n",
        "    load_best_model_at_end=True,\n",
        "    metric_for_best_model=\"accuracy\",\n",
        "    greater_is_better=True,\n",
        "    report_to=\"none\",  # Silencia os logs do Hugging Face Hub\n",
        "    learning_rate=learning_rate,\n",
        "    weight_decay=weight_decay,\n",
        "    adam_beta1=adam_beta1,\n",
        "    adam_beta2=adam_beta2,\n",
        "    adam_epsilon=adam_epsilon,\n",
        "    label_smoothing_factor=label_smoothing_factor,\n",
        ")\n",
        "\n",
        "def compute_metrics(eval_pred):\n",
        "    logits, labels = eval_pred\n",
        "    predictions = torch.argmax(torch.from_numpy(logits), dim=-1)\n",
        "    correct = (predictions.to(torch.int) == labels).sum().item()\n",
        "    total = len(labels)\n",
        "    accuracy = correct / total\n",
        "    return {\"accuracy\": accuracy}\n",
        "\n",
        "trainer = Trainer(\n",
        "    model=model,\n",
        "    args=training_args,\n",
        "    train_dataset=train_dataset,\n",
        "    eval_dataset=eval_dataset,\n",
        "    tokenizer=tokenizer,\n",
        "    compute_metrics=compute_metrics,\n",
        ")\n",
        "\n",
        "# Inicie o treinamento\n",
        "trainer.train()\n",
        "\n",
        "# Salve o modelo\n",
        "trainer.save_model(output_dir)"
      ]
    },
    {
      "cell_type": "code",
      "execution_count": null,
      "metadata": {
        "id": "-GuYGobkAiil"
      },
      "outputs": [],
      "source": [
        "!pip install scikit-learn"
      ]
    },
    {
      "cell_type": "code",
      "execution_count": null,
      "metadata": {
        "id": "Trx8swt0CLeX"
      },
      "outputs": [],
      "source": [
        "from sklearn.metrics import classification_report, accuracy_score, precision_score, recall_score, f1_score\n",
        "\n",
        "# Avalie o modelo no conjunto de teste\n",
        "eval_output = trainer.predict(eval_dataset)\n",
        "\n",
        "# Obtenha as previsões e os rótulos verdadeiros\n",
        "predictions = torch.argmax(torch.tensor(eval_output.predictions), dim=-1).numpy()\n",
        "true_labels = eval_output.label_ids\n",
        "\n",
        "# Calcule as métricas\n",
        "accuracy = accuracy_score(true_labels, predictions)\n",
        "precision = precision_score(true_labels, predictions, average=\"weighted\")\n",
        "recall = recall_score(true_labels, predictions, average=\"weighted\")\n",
        "f1 = f1_score(true_labels, predictions, average=\"weighted\")\n",
        "\n",
        "print(f\"Acurácia: {accuracy * 100:.2f}%\")\n",
        "print(f\"Precisão (ponderada): {precision * 100:.2f}%\")\n",
        "print(f\"Abrangência (ponderada): {recall * 100:.2f}%\")\n",
        "print(f\"F-Measure (ponderada): {f1 * 100:.2f}%\")\n",
        "\n",
        "# Gere o relatório de classificação para cada classe\n",
        "class_report = classification_report(true_labels, predictions, target_names=[\"NOT (non-offensive)\", \"OFF (offensive)\"], digits=2)\n",
        "print(\"\\nRelatório de classificação:\")\n",
        "print(class_report)"
      ]
    }
  ],
  "metadata": {
    "colab": {
      "provenance": []
    },
    "kernelspec": {
      "display_name": "Python 3",
      "name": "python3"
    },
    "language_info": {
      "name": "python"
    }
  },
  "nbformat": 4,
  "nbformat_minor": 0
}